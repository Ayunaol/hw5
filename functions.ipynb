{
 "cells": [
  {
   "cell_type": "markdown",
   "metadata": {},
   "source": [
    "Вы работаете секретарем и вам постоянно приходят различные документы. Вы должны быть очень внимательны, чтобы не потерять ни один документ. Каталог документов хранится в следующем виде:"
   ]
  },
  {
   "cell_type": "code",
   "execution_count": 29,
   "metadata": {},
   "outputs": [],
   "source": [
    "documents = [\n",
    "    {'type': 'passport', 'number': '2207 876234', 'name': 'Василий Гупкин'},\n",
    "    {'type': 'invoice', 'number': '11-2', 'name': 'Геннадий Покемонов'},\n",
    "    {'type': 'insurance', 'number': '10006', 'name': 'Аристарх Павлов'}\n",
    "]"
   ]
  },
  {
   "cell_type": "markdown",
   "metadata": {},
   "source": [
    "Перечень полок, на которых находятся документы хранится в следующем виде:"
   ]
  },
  {
   "cell_type": "code",
   "execution_count": 30,
   "metadata": {},
   "outputs": [],
   "source": [
    "directories = {\n",
    "    '1': ['2207 876234', '11-2'],\n",
    "    '2': ['10006'],\n",
    "    '3': []\n",
    "}"
   ]
  },
  {
   "cell_type": "markdown",
   "metadata": {},
   "source": [
    "Необходимо реализовать пользовательские команды (внимание! это не название функций, которые должны быть выразительными, а команды, которые вводит пользователь, чтобы получить необходимый результат):\n",
    "  \n",
    "- p – people – команда, которая спросит номер документа и выведет имя человека, которому он принадлежит;  \n",
    "- s – shelf – команда, которая спросит номер документа и выведет номер полки, на которой он находится  \n",
    "Правильно обработайте ситуацию, когда пользователь будет вводить несуществующий документ.\n",
    "- l – list – команда, которая выведет список всех документов в формате   \n",
    "**passport \"2207 876234\" \"Василий Гупкин\"**  \n",
    "- as – add shelf – команда, которая спросит номер новой полки и добавит ее в перечень\n",
    "- d – delete – команда, которая спросит номер документа и удалит его из каталога и из перечня полок. Предусмотрите сценарий, когда пользователь вводит несуществующий документ;  \n",
    "- m – move – команда, которая спросит номер документа и целевую полку и переместит его с текущей полки на целевую. Корректно обработайте кейсы, когда пользователь пытается переместить несуществующий документ или переместить документ на несуществующую полку;  \n",
    "- a – add – команда, которая добавит новый документ в каталог и в перечень полок, спросив его номер, тип, имя владельца и номер полки, на котором он будет храниться."
   ]
  },
  {
   "cell_type": "code",
   "execution_count": 32,
   "metadata": {},
   "outputs": [
    {
     "name": "stdout",
     "output_type": "stream",
     "text": [
      "Enter command: a\n",
      "Enter num of document: 123\n",
      "Enter type of document: p\n",
      "Enter name user: qwerty\n",
      "Enter num of shelf: 7\n",
      "this number of shelf not exist\n"
     ]
    }
   ],
   "source": [
    "\n",
    "def name_from_doc(data_list):\n",
    "    input_num_doc = input('Enter num of document: ')\n",
    "    f_doc = 0 # for find num of doc\n",
    "    \n",
    "    for row in data_list:\n",
    "        if row['number'] == input_num_doc:\n",
    "            print(row['name'])\n",
    "            f_doc = 1\n",
    "    if f_doc == 0:\n",
    "        print('Document not found')\n",
    "            \n",
    "def get_num_shelf(data_dict):\n",
    "    input_num_doc = input('Enter num of document: ')\n",
    "    f_doc = 0 # for find num of doc\n",
    "    \n",
    "    for key, value in data_dict.items():\n",
    "        if input_num_doc in value:\n",
    "            print(key)\n",
    "    if f_doc == 0:\n",
    "        print('Document not found')\n",
    "            \n",
    "def get_doc_list(data_list):\n",
    "    for row in data_list:\n",
    "        print(row['type'],' \"',row['number'],'\"', ' \"',row['name'],'\"', sep='')\n",
    "        \n",
    "def add_shelf(data_dict):\n",
    "    num_shelf = input('Enter num of new shelf: ')\n",
    "    exist_num = 0\n",
    "    for key in data_dict.keys():\n",
    "        if num_shelf == key:\n",
    "            exist_num = 1\n",
    "    if exist_num == 1:\n",
    "        print('This num exist')\n",
    "    else:\n",
    "        draft_dict = dict.fromkeys(num_shelf, [])\n",
    "        data_dict.update(draft_dict)\n",
    "        print(data_dict)\n",
    "    \n",
    "def del_doc(data_list, data_dict):\n",
    "    input_num_doc = input('Enter num of document: ')\n",
    "    f_list = 0\n",
    "    f_dict = 0\n",
    "\n",
    "    for row in data_list:\n",
    "        if row['number'] == input_num_doc:\n",
    "            data_list.remove(row)\n",
    "            f_list = 1\n",
    "    for key, value in data_dict.items():\n",
    "        if input_num_doc in value:\n",
    "            value.remove(input_num_doc)\n",
    "            f_dict = 1\n",
    "    if f_list == 0:\n",
    "        print('this number of document not found in documents')\n",
    "    if f_dict == 0:\n",
    "        print('this number of document not found in directories')\n",
    "        \n",
    "def move_doc(data_dict):\n",
    "    input_num_doc = input('Enter num of document: ')\n",
    "    finish_shelf = input('Enter num finish shelf: ')\n",
    "    \n",
    "    f_doc = 0 # for find num of doc\n",
    "    f_shelf = 0 # for find finish shelf: 0 - not found\n",
    "    \n",
    "    for key in data_dict.keys():\n",
    "        if key == finish_shelf:\n",
    "            f_shelf = 1\n",
    "    if f_shelf == 0:\n",
    "        print('this number of shelf not found in directories')\n",
    "        \n",
    "    else:\n",
    "        for key, value in data_dict.items():\n",
    "            if input_num_doc in value:\n",
    "                value.remove(input_num_doc)\n",
    "                data_dict[finish_shelf].append(input_num_doc)\n",
    "                f_doc = 1\n",
    "        if f_doc == 0:\n",
    "            print('this number of document not found in documents')\n",
    "\n",
    "def add_doc(data_list, data_dict):\n",
    "    input_num_doc = input('Enter num of document: ')\n",
    "    input_type_doc = input('Enter type of document: ')\n",
    "    input_name = input('Enter name user: ')\n",
    "    input_num_shelf = input('Enter num of shelf: ')\n",
    "    \n",
    "    f_shelf = 0 \n",
    "    \n",
    "    for key in data_dict.keys():\n",
    "        if input_num_shelf == key:\n",
    "            data_dict[key].append(input_num_doc)\n",
    "            f_shelf = 1\n",
    "    if f_shelf == 0:\n",
    "        print('this number of shelf not exist')\n",
    "    else:\n",
    "        data_list.append({'type': input_type_doc, 'number': input_num_doc, 'name': input_name})\n",
    "    \n",
    "            \n",
    "input_command = input('Enter command: ')\n",
    "\n",
    "if input_command == 'p':\n",
    "    name_from_doc(documents)\n",
    "elif input_command == 's':\n",
    "    get_num_shelf(directories)\n",
    "elif input_command == 'l':\n",
    "    get_doc_list(documents)\n",
    "elif input_command == 'as':\n",
    "    add_shelf(directories)\n",
    "elif input_command == 'd':\n",
    "    del_doc(documents, directories)\n",
    "elif input_command == 'm':\n",
    "    move_doc(directories)\n",
    "elif input_command == 'a':\n",
    "    add_doc(documents, directories)"
   ]
  },
  {
   "cell_type": "code",
   "execution_count": 33,
   "metadata": {},
   "outputs": [
    {
     "data": {
      "text/plain": [
       "{'1': ['2207 876234', '11-2'], '2': ['10006'], '3': []}"
      ]
     },
     "execution_count": 33,
     "metadata": {},
     "output_type": "execute_result"
    }
   ],
   "source": [
    "directories"
   ]
  },
  {
   "cell_type": "code",
   "execution_count": 34,
   "metadata": {},
   "outputs": [
    {
     "data": {
      "text/plain": [
       "[{'type': 'passport', 'number': '2207 876234', 'name': 'Василий Гупкин'},\n",
       " {'type': 'invoice', 'number': '11-2', 'name': 'Геннадий Покемонов'},\n",
       " {'type': 'insurance', 'number': '10006', 'name': 'Аристарх Павлов'}]"
      ]
     },
     "execution_count": 34,
     "metadata": {},
     "output_type": "execute_result"
    }
   ],
   "source": [
    "documents"
   ]
  },
  {
   "cell_type": "code",
   "execution_count": null,
   "metadata": {},
   "outputs": [],
   "source": []
  }
 ],
 "metadata": {
  "kernelspec": {
   "display_name": "Python 3",
   "language": "python",
   "name": "python3"
  },
  "language_info": {
   "codemirror_mode": {
    "name": "ipython",
    "version": 3
   },
   "file_extension": ".py",
   "mimetype": "text/x-python",
   "name": "python",
   "nbconvert_exporter": "python",
   "pygments_lexer": "ipython3",
   "version": "3.7.4"
  }
 },
 "nbformat": 4,
 "nbformat_minor": 2
}
